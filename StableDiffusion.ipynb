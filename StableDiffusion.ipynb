{
 "cells": [
  {
   "cell_type": "markdown",
   "metadata": {},
   "source": [
    "# StableDiffusion"
   ]
  },
  {
   "cell_type": "code",
   "execution_count": null,
   "metadata": {},
   "outputs": [],
   "source": [
    "# Instala as dependências necessárias\n",
    "#!pip install torch transformers diffusers gradio accelerate "
   ]
  },
  {
   "cell_type": "code",
   "execution_count": null,
   "metadata": {},
   "outputs": [],
   "source": [
    "# Importa as bibliotecas necessárias\n",
    "from diffusers import StableDiffusionPipeline  # Biblioteca para o pipeline da Stable Diffusion\n",
    "import torch  # Biblioteca para operações com tensores\n",
    "import time  # Biblioteca para funções relacionadas ao tempo\n"
   ]
  },
  {
   "cell_type": "code",
   "execution_count": null,
   "metadata": {},
   "outputs": [],
   "source": [
    "# Define o ID do modelo\n",
    "model_id = \"CompVis/stable-diffusion-v1-4\"\n",
    "# Carrega o modelo pré-treinado da Stable Diffusion com configuração para uso eficiente de memória\n",
    "pipe = StableDiffusionPipeline.from_pretrained(model_id, torch_dtype=torch.float16, low_cpu_mem_usage=True)\n",
    "pipe = pipe.to(\"cuda\")   # Move o modelo para a GPU (se disponível) para melhorar o desempenho"
   ]
  },
  {
   "cell_type": "code",
   "execution_count": null,
   "metadata": {},
   "outputs": [],
   "source": [
    "# Função para gerar imagens com parâmetros ajustáveis\n",
    "def generate_image(prompt, style=None, width=512, height=512, num_inference_steps=50, guidance_scale=7.5, seed=None):\n",
    "    if style:  # Se um estilo for fornecido, adiciona-o ao prompt\n",
    "        prompt = f\"{prompt}, {style}\"\n",
    "    \n",
    "    # Configura a semente aleatória, se fornecida\n",
    "    if seed is not None:\n",
    "        generator = torch.manual_seed(seed)  # Define a semente aleatória\n",
    "    else:\n",
    "        generator = None\n",
    "    \n",
    "   \n",
    "    # Gera a imagem com os parâmetros fornecidos\n",
    "    image = pipe(\n",
    "        prompt, \n",
    "        width=width, \n",
    "        height=height, \n",
    "        num_inference_steps=num_inference_steps, \n",
    "        guidance_scale=guidance_scale, \n",
    "        generator=generator\n",
    "    ).images[0]\n",
    "    \n",
    "    return image  # Retorna a imagem gerada"
   ]
  },
  {
   "cell_type": "code",
   "execution_count": null,
   "metadata": {},
   "outputs": [],
   "source": [
    "# Lista de estilos sugeridos\n",
    "styles = [\n",
    "    \"cyberpunk style\",\n",
    "    \"impressionist style\",\n",
    "    \"watercolor\",\n",
    "    \"pixel art\",\n",
    "    \"realistic\",\n",
    "    \"abstract\",\n",
    "    \"surreal\",\n",
    "    \"steampunk\",\n",
    "    \"modern art\",\n",
    "    \"baroque\",\n",
    "    \"and more\"\n",
    "]"
   ]
  },
  {
   "cell_type": "code",
   "execution_count": null,
   "metadata": {},
   "outputs": [],
   "source": [
    "# Importa a biblioteca Gradio para criar a interface web\n",
    "import gradio as gr\n",
    "\n",
    "# Função que será chamada pela interface Gradio\n",
    "def generate_image_interface(prompt, style, width, height, num_inference_steps, guidance_scale, seed):\n",
    "    image = generate_image(prompt, style, width, height, num_inference_steps, guidance_scale, seed)  # Gera a imagem\n",
    "    return image  # Retorna a imagem gerada para a interface\n",
    "\n",
    "# Define a interface Gradio\n",
    "iface = gr.Interface(\n",
    "    fn=generate_image_interface,  # Função a ser chamada pela interface\n",
    "    inputs=[\n",
    "        gr.Textbox(label=\"Prompt\"),  # Caixa de texto para o prompt\n",
    "        gr.Textbox(label=\"Style\"),  # Caixa de texto para o estilo\n",
    "        gr.Slider(256, 1024, step=64, label=\"Width\", value=512),  # Slider para a largura da imagem\n",
    "        gr.Slider(256, 1024, step=64, label=\"Height\", value=512),  # Slider para a altura da imagem\n",
    "        gr.Slider(1, 100, step=1, label=\"Number of Inference Steps\", value=50),  # Slider para o número de passos de inferência\n",
    "        gr.Slider(0.1, 20.0, step=0.1, label=\"Guidance Scale\", value=7.5),  # Slider para a escala de orientação\n",
    "        gr.Number(label=\"Seed\", value=None)  # Caixa de número para a semente aleatória\n",
    "    ],\n",
    "    outputs=gr.Image(type=\"pil\"),  # Define a saída como uma imagem do tipo PIL\n",
    "    title=\"Image Generator\",  # Título da interface\n",
    "    description=\"Enter a prompt and optionally a style. Available styles: \" + \", \".join(styles)  # Descrição da interface com os estilos disponíveis\n",
    ")"
   ]
  },
  {
   "cell_type": "code",
   "execution_count": null,
   "metadata": {},
   "outputs": [],
   "source": [
    "# Lança a interface Gradio\n",
    "iface.launch()"
   ]
  }
 ],
 "metadata": {
  "kernelspec": {
   "display_name": "Python 3",
   "language": "python",
   "name": "python3"
  },
  "language_info": {
   "codemirror_mode": {
    "name": "ipython",
    "version": 3
   },
   "file_extension": ".py",
   "mimetype": "text/x-python",
   "name": "python",
   "nbconvert_exporter": "python",
   "pygments_lexer": "ipython3",
   "version": "3.10.7"
  }
 },
 "nbformat": 4,
 "nbformat_minor": 2
}
